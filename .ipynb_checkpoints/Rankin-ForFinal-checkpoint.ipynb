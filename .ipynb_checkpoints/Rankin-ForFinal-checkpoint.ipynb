{
 "cells": [
  {
   "cell_type": "markdown",
   "metadata": {},
   "source": [
    "## **School Enrollment**"
   ]
  },
  {
   "cell_type": "markdown",
   "metadata": {},
   "source": [
    "This metric focuses on the neighborhood with the highest school enrollment. This is because I define *bestness*  with the notion that it is best to have the biggest social network. To put it simply, the more people there are in school, the more friends you can make in school."
   ]
  },
  {
   "cell_type": "code",
   "execution_count": null,
   "metadata": {},
   "outputs": [],
   "source": [
    "import pandas as pd\n",
    "import numpy as np\n",
    "import geopandas\n",
    "%matplotlib inline\n",
    "import matplotlib.pyplot as plt\n",
    "\n",
    "enroll = pd.read_csv(\"school-enrollment.csv\")"
   ]
  },
  {
   "cell_type": "markdown",
   "metadata": {},
   "source": [
    "This imports third party libraries for data work in Python and uses Python pandas to read the 2015 Pittsburgh public and private school enrollment data from the Western Pennsylvania Regional Data Center (WPRDC) website."
   ]
  },
  {
   "cell_type": "code",
   "execution_count": null,
   "metadata": {},
   "outputs": [],
   "source": [
    "del enroll['Id']\n",
    "del enroll['Margin of Error; Total:']\n",
    "del enroll[\"Margin of Error; Enrolled in school:\"]\n",
    "del enroll['Margin of Error; Enrolled in school: - Enrolled in nursery school, preschool']\n",
    "del enroll['Margin of Error; Enrolled in school: - Enrolled in kindergarten']\n",
    "del enroll['Margin of Error; Enrolled in school: - Enrolled in grade 1']\n",
    "del enroll['Margin of Error; Enrolled in school: - Enrolled in grade 2']\n",
    "del enroll['Margin of Error; Enrolled in school: - Enrolled in grade 3']\n",
    "del enroll['Margin of Error; Enrolled in school: - Enrolled in grade 4']\n",
    "del enroll['Margin of Error; Enrolled in school: - Enrolled in grade 5']\n",
    "del enroll['Margin of Error; Enrolled in school: - Enrolled in grade 6']\n",
    "del enroll['Margin of Error; Enrolled in school: - Enrolled in grade 7']\n",
    "del enroll['Margin of Error; Enrolled in school: - Enrolled in grade 8']\n",
    "del enroll['Margin of Error; Enrolled in school: - Enrolled in grade 9']\n",
    "del enroll['Margin of Error; Enrolled in school: - Enrolled in grade 10']\n",
    "del enroll['Margin of Error; Enrolled in school: - Enrolled in grade 11']\n",
    "del enroll['Margin of Error; Enrolled in school: - Enrolled in grade 12']\n",
    "del enroll['Margin of Error; Enrolled in school: - Enrolled in college, undergraduate years']\n",
    "del enroll['Margin of Error; Enrolled in school: - Graduate or professional school']\n",
    "del enroll['Margin of Error; Not enrolled in school']\n"
   ]
  },
  {
   "cell_type": "markdown",
   "metadata": {},
   "source": [
    "Removal of these columns makes life *a lot* easier when working with the data in Python."
   ]
  },
  {
   "cell_type": "code",
   "execution_count": null,
   "metadata": {},
   "outputs": [],
   "source": [
    "enroll_dict = dict()\n",
    "for index in enroll.index:\n",
    "    enroll_dict.update({enroll.loc[index]['Neighborhood'] : enroll.loc[index]['Estimate; Enrolled in school:']})\n",
    "enroll_dict"
   ]
  },
  {
   "cell_type": "markdown",
   "metadata": {},
   "source": [
    "To simplify the work with data, I stored the total school enrollment value of each neighborhood in a dictionary with each corresponding neighborhood name as the key."
   ]
  },
  {
   "cell_type": "code",
   "execution_count": null,
   "metadata": {},
   "outputs": [],
   "source": [
    "data_graph = pd.Series(enroll_dict).sort_values(ascending=False)\n",
    "\n",
    "data_graph.plot.barh(color = [\"palevioletred\"], #https://matplotlib.org/stable/gallery/color/named_colors.html\n",
    "                     figsize=(30,25))\n",
    "\n",
    "plt.title(\"Neighborhood School Enrollment\")\n",
    "plt.xlabel('Total Enrollment')"
   ]
  },
  {
   "cell_type": "markdown",
   "metadata": {},
   "source": [
    "Converting the dictionary of enrollment data to a series allows us to call the **plot()** function from pandas. Here is a horizontal bar graph sorted in descending order to visualize the neighborhood with the highest school enrollment. \n"
   ]
  },
  {
   "cell_type": "code",
   "execution_count": null,
   "metadata": {},
   "outputs": [],
   "source": [
    "avg_dict = {\"Average Enrollment\" : data_graph.mean(),\n",
    "           \"North Oakland\" : data_graph.max()}\n",
    "\n",
    "avg_compare = pd.Series(avg_dict)\n",
    "avg_compare.plot.bar(color = [\"lightslategrey\",\"palevioletred\"],\n",
    "                     rot=0,\n",
    "                    figsize=(4.5,5))"
   ]
  },
  {
   "cell_type": "markdown",
   "metadata": {},
   "source": [
    "This simple vertical bar graph helps emphasize how best North Oakland is, when compared to the average school enrollment."
   ]
  },
  {
   "cell_type": "markdown",
   "metadata": {},
   "source": [
    "<img src=\"https://i.imgur.com/m5e4ki2.jpg\" width=\"800\">\n",
    "<i> Credit: Aimee Obidzinski </i>"
   ]
  },
  {
   "cell_type": "markdown",
   "metadata": {},
   "source": [
    "\n",
    "**North Oakland is the clear winner in regards to total school enrollment.** But what does the actual makeup of the total look like?"
   ]
  },
  {
   "cell_type": "markdown",
   "metadata": {},
   "source": [
    "### Breaking down North Oakland:\n"
   ]
  },
  {
   "cell_type": "code",
   "execution_count": null,
   "metadata": {},
   "outputs": [],
   "source": [
    "enroll = pd.read_csv(\"school-enrollment.csv\",\n",
    "                    index_col = 'Neighborhood')\n",
    "del enroll['Id']\n",
    "del enroll['Margin of Error; Total:']\n",
    "del enroll[\"Margin of Error; Enrolled in school:\"]\n",
    "del enroll['Margin of Error; Enrolled in school: - Enrolled in nursery school, preschool']\n",
    "del enroll['Margin of Error; Enrolled in school: - Enrolled in kindergarten']\n",
    "del enroll['Margin of Error; Enrolled in school: - Enrolled in grade 1']\n",
    "del enroll['Margin of Error; Enrolled in school: - Enrolled in grade 2']\n",
    "del enroll['Margin of Error; Enrolled in school: - Enrolled in grade 3']\n",
    "del enroll['Margin of Error; Enrolled in school: - Enrolled in grade 4']\n",
    "del enroll['Margin of Error; Enrolled in school: - Enrolled in grade 5']\n",
    "del enroll['Margin of Error; Enrolled in school: - Enrolled in grade 6']\n",
    "del enroll['Margin of Error; Enrolled in school: - Enrolled in grade 7']\n",
    "del enroll['Margin of Error; Enrolled in school: - Enrolled in grade 8']\n",
    "del enroll['Margin of Error; Enrolled in school: - Enrolled in grade 9']\n",
    "del enroll['Margin of Error; Enrolled in school: - Enrolled in grade 10']\n",
    "del enroll['Margin of Error; Enrolled in school: - Enrolled in grade 11']\n",
    "del enroll['Margin of Error; Enrolled in school: - Enrolled in grade 12']\n",
    "del enroll['Margin of Error; Enrolled in school: - Enrolled in college, undergraduate years']\n",
    "del enroll['Margin of Error; Enrolled in school: - Graduate or professional school']\n",
    "del enroll['Margin of Error; Not enrolled in school']\n",
    "\n",
    "del enroll['Estimate; Enrolled in school:']\n",
    "del enroll['Estimate; Total:']\n",
    "del enroll['Estimate; Not enrolled in school']\n",
    "\n",
    "NorthOak = enroll['North Oakland': 'North Oakland'][:]\n",
    "NorthOak.plot.bar(rot=0, \n",
    "                  figsize = (15,10))"
   ]
  },
  {
   "cell_type": "markdown",
   "metadata": {},
   "source": [
    "Here, I reread the csv file to a new variable that will only hold data pertaining to North Oakland, and nothing else. I also delete the undesirable columns that make it hard to work with the data. When attempting to compare the data, there is an overwhelming dominance in the data by undergraduates and graduate students."
   ]
  },
  {
   "cell_type": "markdown",
   "metadata": {},
   "source": [
    "<img src=\"https://i.imgur.com/6TllGy2.png\" width=\"700\">\n",
    "\n",
    "<i> Credit: Google Maps </i>"
   ]
  },
  {
   "cell_type": "markdown",
   "metadata": {},
   "source": [
    "The dominance by college students in the data is most likely explained by the fact that North Oakland is the centerpiece of Pittsburgh. Not only is Pitt within North Oakland, the neighborhood is also surrounded by multiple colleges with multiple campus living spaces."
   ]
  },
  {
   "cell_type": "markdown",
   "metadata": {},
   "source": [
    "<img src=\"https://i.imgur.com/8iPlxk6.png\" width=\"700\">\n",
    "\n",
    "<i> Credit: Google Maps </i>"
   ]
  },
  {
   "cell_type": "code",
   "execution_count": null,
   "metadata": {},
   "outputs": [],
   "source": [
    "del NorthOak['Estimate; Enrolled in school: - Enrolled in college, undergraduate years']\n",
    "del NorthOak['Estimate; Enrolled in school: - Graduate or professional school']"
   ]
  },
  {
   "cell_type": "markdown",
   "metadata": {},
   "source": [
    "To be able to properly compare the data, I remove the ungrad and graduate columns being considered in the data. This allows me to zoom into the rest of the data that was overshadowed."
   ]
  },
  {
   "cell_type": "code",
   "execution_count": null,
   "metadata": {},
   "outputs": [],
   "source": [
    "NorthOak.squeeze().plot.pie(figsize = (10,10), \n",
    "                            colormap = 'rainbow', #https://matplotlib.org/2.0.2/examples/color/colormaps_reference.html\n",
    "                            ylabel = '')"
   ]
  },
  {
   "cell_type": "markdown",
   "metadata": {},
   "source": [
    "This pie chart provides a visual explanation that if you were to live in North Oakland and not attending college, the best grade level within North Oakland is Third Grade."
   ]
  },
  {
   "cell_type": "code",
   "execution_count": null,
   "metadata": {},
   "outputs": [],
   "source": [
    "NorthOak #show pie chart just ignores columns with 0.0 value"
   ]
  },
  {
   "cell_type": "markdown",
   "metadata": {},
   "source": [
    "Surprisingly, North Oakland has 0 people enrolled in a school at multiple grade levels (as of this 2015 data)."
   ]
  },
  {
   "cell_type": "markdown",
   "metadata": {},
   "source": [
    "## Conclusion\n",
    "\n",
    "North Oakland is the best neighborhood by the metric comparing total school enrollment and if you were to live in North Oakland, the best grade to make friends in, is as an Undergraduate in college! **😁**\n",
    "\n",
    "...or as a third grader."
   ]
  },
  {
   "cell_type": "code",
   "execution_count": null,
   "metadata": {},
   "outputs": [],
   "source": []
  }
 ],
 "metadata": {
  "kernelspec": {
   "display_name": "Python 3",
   "language": "python",
   "name": "python3"
  },
  "language_info": {
   "codemirror_mode": {
    "name": "ipython",
    "version": 3
   },
   "file_extension": ".py",
   "mimetype": "text/x-python",
   "name": "python",
   "nbconvert_exporter": "python",
   "pygments_lexer": "ipython3",
   "version": "3.8.5"
  }
 },
 "nbformat": 4,
 "nbformat_minor": 5
}
