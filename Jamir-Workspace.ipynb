{
 "cells": [
  {
   "cell_type": "markdown",
   "metadata": {},
   "source": [
    "# Time for facillities placements!!\n",
    " We're going to be looking at the locations and designations of public facillities in pittsburgh to judge hown much engagement is provided by the city and maintained by different organizations.\n",
    " \n",
    " First step is to import some libraries we're gonna need to be able to handle the csv we're passing in, and then as soon as they're passed in we'll scan the csv itself.\n"
   ]
  },
  {
   "cell_type": "code",
   "execution_count": 2,
   "metadata": {},
   "outputs": [],
   "source": [
    "import pandas as pd\n",
    "import numpy as np\n",
    "import geopandas\n",
    "%matplotlib inline\n",
    "import matplotlib.pyplot as plt\n",
    "\n",
    "facillities = pd.read_csv(\"facilitiesPGH.csv\")\n",
    "##facillitiesDIR = pd.read_csv(\"facilitiesPGHDIR.csv\")\n"
   ]
  },
  {
   "cell_type": "markdown",
   "metadata": {},
   "source": [
    "Since those lines only initialize some variables that we'll be using later thre's no output, but I'll print the top 10 rows below."
   ]
  },
  {
   "cell_type": "code",
   "execution_count": 2,
   "metadata": {},
   "outputs": [
    {
     "name": "stdout",
     "output_type": "stream",
     "text": [
      "           id  parcel_id inactive  \\\n",
      "0   650726265  120-J-300        f   \n",
      "1   783044037    2-H-284        f   \n",
      "2  1997158435   23-R-157        f   \n",
      "3   204824684   10-F-198        f   \n",
      "4   472140955  013-K-314        f   \n",
      "5   984285720   13-F-217        f   \n",
      "6  2110346447   13-K-314        f   \n",
      "7   263802473    3-M-404        f   \n",
      "8   271629667    49-K-61        f   \n",
      "9   436558867        NaN        f   \n",
      "\n",
      "                                                name rentable       type  \\\n",
      "0                          57th Street Park Building        f    Storage   \n",
      "1                    Albert Turk Graham Park Shelter        f    Shelter   \n",
      "2  Allegheny Northside Senior Center and Hazlett ...        t     Senior   \n",
      "3                            Ammon Recreation Center        f       Pool   \n",
      "4                    Arlington Field Lights Building        f    Utility   \n",
      "5                                      Arlington Gym        t   Activity   \n",
      "6                           Arlington Pool Restrooms        f       Pool   \n",
      "7                           Armstrong Field Building        f  Restrooms   \n",
      "8                              Arsenal Park Building        f  Restrooms   \n",
      "9                    Asphalt Plant Equipment Shelter        f    Service   \n",
      "\n",
      "                 primary_user  address_number          street      zip  ...  \\\n",
      "0  Department of Public Works             NaN         57TH ST      NaN  ...   \n",
      "1  Department of Public Works            39.0         VINE ST      NaN  ...   \n",
      "2                   CitiParks             5.0  ALLEGHENY SQ E  15212.0  ...   \n",
      "3                   CitiParks          2217.0     BEDFORD AVE  15219.0  ...   \n",
      "4                   CitiParks             0.0     STERLING ST  15210.0  ...   \n",
      "5                   CitiParks          2201.0    SALISBURY ST  15210.0  ...   \n",
      "6                   CitiParks          1630.0     STERLING ST  15210.0  ...   \n",
      "7                   CitiParks          1201.0        SARAH ST  15203.0  ...   \n",
      "8                   CitiParks          3900.0       BUTLER ST  15201.0  ...   \n",
      "9  Department of Public Works             NaN    LOCKWAY EAST      NaN  ...   \n",
      "\n",
      "          neighborhood council_district  ward        tract  \\\n",
      "0  Upper Lawrenceville                7  10.0  42003101100   \n",
      "1     Crawford-Roberts                6   3.0  42003030500   \n",
      "2     Allegheny Center                1  22.0  42003562700   \n",
      "3    Bedford Dwellings                6   5.0  42003050900   \n",
      "4    South Side Slopes                3  16.0  42003160800   \n",
      "5    South Side Slopes                3  16.0  42003160800   \n",
      "6    South Side Slopes                3  16.0  42003160800   \n",
      "7     South Side Flats                3  17.0  42003170200   \n",
      "8  Lower Lawrenceville                7   6.0  42003060300   \n",
      "9        Highland Park                9  12.0  42003980100   \n",
      "\n",
      "   public_works_division  pli_division  police_zone  fire_zone   latitude  \\\n",
      "0                    2.0          10.0          2.0        3-5  40.485658   \n",
      "1                    3.0           3.0          2.0        2-1  40.440464   \n",
      "2                    1.0          22.0          1.0        1-6  40.453091   \n",
      "3                    3.0           5.0          2.0        2-5  40.448727   \n",
      "4                    3.0          16.0          3.0       4-22  40.418144   \n",
      "5                    3.0          16.0          3.0       4-22  40.419261   \n",
      "6                    3.0          16.0          3.0       4-22  40.417745   \n",
      "7                    3.0          17.0          3.0       4-24  40.428327   \n",
      "8                    2.0           6.0          2.0        3-3  40.466761   \n",
      "9                    2.0          12.0          5.0       3-15  40.484902   \n",
      "\n",
      "   longitude  \n",
      "0 -79.946446  \n",
      "1 -79.984103  \n",
      "2 -80.005339  \n",
      "3 -79.977853  \n",
      "4 -79.974468  \n",
      "5 -79.975212  \n",
      "6 -79.974685  \n",
      "7 -79.986166  \n",
      "8 -79.960345  \n",
      "9 -79.906366  \n",
      "\n",
      "[10 rows x 21 columns]\n"
     ]
    }
   ],
   "source": [
    "print(facillities.head(10))"
   ]
  },
  {
   "cell_type": "markdown",
   "metadata": {},
   "source": [
    "Well that looks pretty nasty, and there's not to much helping us understand the data. Firstly seeing longitude and latitude means that we can do location pretty easily, but we have a neighborhood grouping already built in to the sheet! Wonderful!"
   ]
  },
  {
   "cell_type": "code",
   "execution_count": 9,
   "metadata": {},
   "outputs": [
    {
     "name": "stdout",
     "output_type": "stream",
     "text": [
      "{'Upper Lawrenceville': 1, 'Crawford-Roberts': 3, 'Allegheny Center': 4, 'Bedford Dwellings': 6, 'South Side Slopes': 11, 'South Side Flats': 5, 'Lower Lawrenceville': 7, 'Highland Park': 30, 'Banksville': 7, 'Beechview': 6, 'Bloomfield': 6, 'Bon Air': 1, 'Brighton Heights': 14, 'Brookline': 19, 'Hazelwood': 14, 'Lincoln-Lemington-Belmar': 11, 'Windgap': 3, 'Central Business District': 8, 'Troy Hill': 3, 'Crafton Heights': 1, 'East Hills': 3, 'East Liberty': 3, 'Fairywood': 1, 'Strip District': 15, 'Bluff': 3, 'Fineview': 1, 'Stanton Heights': 1, 'West Oakland': 1, 'Greenfield': 4, 'Central Oakland': 1, 'Homewood South': 3, 'Swisshelm Park': 1, 'Hays': 2, 'Carrick': 12, 'Mount Washington': 7, 'Westwood': 4, 'Elliott': 11, 'Sheraden': 7, 'East Allegheny': 1, 'Perry North': 20, 'Marshall-Shadeland': 3, 'Manchester': 3, 'Spring Hill-City View': 6, 'Squirrel Hill South': 29, 'Garfield': 4, 'Perry South': 2, 'South Oakland': 2, 'Regent Square': 4, 'Point Breeze': 8, 'Glen Hazel': 1, 'Allentown': 3, 'Morningside': 10, 'Homewood North': 1, 'Central Northside': 1, 'Terrace Village': 3, 'Larimer': 1, 'Central Lawrenceville': 3, 'Lincoln Place': 5, 'Upper Hill': 2, 'Beltzhoover': 7, 'Knoxville': 4, 'West End': 2, 'Shadyside': 9, 'Homewood West': 6, 'Oakwood': 3, 'Overbrook': 2, 'Chateau': 2, 'California-Kirkbride': 1, 'Squirrel Hill North': 7, 'Duquesne Heights': 2, 'North Oakland': 3, nan: 1, 'Allegheny West': 3, 'Polish Hill': 4, 'Point Breeze North': 1, 'Middle Hill': 1}\n"
     ]
    }
   ],
   "source": [
    "facil_dict = dict()\n",
    "for row in range(len(facillities)):\n",
    "    if facillities.iloc[row,11] in facil_dict:\n",
    "        facil_dict[facillities.iloc[row,11]] = facil_dict[facillities.iloc[row,11]]+1\n",
    "    else:\n",
    "        facil_dict[facillities.iloc[row,11]] = 1\n",
    "    \n",
    "print(facil_dict)"
   ]
  },
  {
   "cell_type": "markdown",
   "metadata": {},
   "source": [
    "That should give us an idea of the amount of facilities in each individual neighborhood, but agian, we still have plenty of other info on each center available, so lets try using that!"
   ]
  },
  {
   "cell_type": "code",
   "execution_count": null,
   "metadata": {},
   "outputs": [],
   "source": [
    "hoods = pd.read_csv(\"Neighborhoods_.csv\")\n",
    "hoods.head(10)"
   ]
  },
  {
   "cell_type": "markdown",
   "metadata": {},
   "source": [
    "facil_dict.plot.bar()"
   ]
  },
  {
   "cell_type": "markdown",
   "metadata": {},
   "source": [
    "With this we can pretty clearly see that a lot of public facilities are concentrated in Highland Prka, Brookline, and Brighton Heights, but knowing that doesnt quite contextualize the data as we want it to."
   ]
  },
  {
   "cell_type": "code",
   "execution_count": null,
   "metadata": {},
   "outputs": [],
   "source": []
  }
 ],
 "metadata": {
  "kernelspec": {
   "display_name": "Python 3",
   "language": "python",
   "name": "python3"
  },
  "language_info": {
   "codemirror_mode": {
    "name": "ipython",
    "version": 3
   },
   "file_extension": ".py",
   "mimetype": "text/x-python",
   "name": "python",
   "nbconvert_exporter": "python",
   "pygments_lexer": "ipython3",
   "version": "3.8.5"
  }
 },
 "nbformat": 4,
 "nbformat_minor": 5
}
